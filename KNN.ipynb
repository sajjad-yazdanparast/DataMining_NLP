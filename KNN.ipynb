{
 "cells": [
  {
   "cell_type": "code",
   "execution_count": 1,
   "id": "7c4ec400",
   "metadata": {},
   "outputs": [],
   "source": [
    "import os \n",
    "import math\n",
    "import requests\n",
    "\n",
    "import pandas as pd \n",
    "import numpy as np \n",
    "import seaborn as sns\n",
    "from collections import defaultdict\n",
    "from string import punctuation\n",
    "from parsivar import Tokenizer, Normalizer, FindStems\n",
    "\n",
    "\n",
    "from sklearn.preprocessing import StandardScaler\n",
    "from sklearn.naive_bayes import MultinomialNB\n",
    "from sklearn.neighbors import KNeighborsClassifier\n",
    "from sklearn.feature_extraction.text import TfidfVectorizer\n",
    "from sklearn.model_selection import train_test_split\n",
    "from sklearn.metrics import confusion_matrix, accuracy_score, f1_score, classification_report, recall_score"
   ]
  },
  {
   "cell_type": "code",
   "execution_count": 2,
   "id": "51635102",
   "metadata": {},
   "outputs": [],
   "source": [
    "LABELS = {\n",
    "    \"اجتماعی\" : \"social\",\n",
    "    \"اديان\" : \"religion\",\n",
    "    \"اقتصادی\" : \"economics\",\n",
    "    \"سیاسی\" : \"politics\",\n",
    "    \"فناوري\" : \"technology\" ,\n",
    "    \"مسائل راهبردي ايران\" : \"strategic\" ,\n",
    "    \"ورزشی\" : \"sport\",\n",
    "}"
   ]
  },
  {
   "cell_type": "code",
   "execution_count": 3,
   "id": "89c3587c",
   "metadata": {},
   "outputs": [],
   "source": [
    "persian = requests.get('https://raw.githubusercontent.com/kharazi/persian-stopwords/master/persian').text.split('\\n')\n",
    "verbal = requests.get('https://raw.githubusercontent.com/kharazi/persian-stopwords/master/verbal').text.split('\\n')\n",
    "nonverbal = requests.get('https://raw.githubusercontent.com/kharazi/persian-stopwords/master/nonverbal').text.split('\\n')\n",
    "\n",
    "stop_words = persian + verbal + nonverbal"
   ]
  },
  {
   "cell_type": "code",
   "execution_count": 4,
   "id": "db58154d",
   "metadata": {},
   "outputs": [],
   "source": [
    "train_texts = []\n",
    "train_labels = []\n",
    "\n",
    "test_texts = []\n",
    "test_labels = []\n",
    "\n",
    "def extract_texts (root, label , file, is_train) :\n",
    "    path = root + '/' + file \n",
    "    with open(path,'r',encoding=\"utf-8\") as f : \n",
    "        text = f.read()\n",
    "        \n",
    "        if is_train :\n",
    "            train_texts.append(text)\n",
    "            train_labels.append(LABELS[label])\n",
    "        else :\n",
    "            test_texts.append(text)\n",
    "            test_labels.append(LABELS[label])"
   ]
  },
  {
   "cell_type": "code",
   "execution_count": 5,
   "id": "bfe7ac1b",
   "metadata": {},
   "outputs": [],
   "source": [
    "for (root,dirs,files) in os.walk('./Final_Dataset/Train') :\n",
    "    \n",
    "    if len(files) == 0 :\n",
    "        continue\n",
    "    for f in files :\n",
    "        label = root.split('\\\\')[1]\n",
    "        extract_texts(root,label,f, True)\n",
    "    "
   ]
  },
  {
   "cell_type": "code",
   "execution_count": 6,
   "id": "c63d0580",
   "metadata": {},
   "outputs": [],
   "source": [
    "train = pd.DataFrame()\n",
    "train['text'] = train_texts \n",
    "train['label'] = train_labels"
   ]
  },
  {
   "cell_type": "code",
   "execution_count": 7,
   "id": "2ee39b0a",
   "metadata": {},
   "outputs": [],
   "source": [
    "for (root,dirs,files) in os.walk('./Final_Dataset/Test') :\n",
    "    \n",
    "    if len(files) == 0 :\n",
    "        continue\n",
    "    for f in files :\n",
    "        label = root.split('\\\\')[1]\n",
    "        \n",
    "        extract_texts(root,label,f, False)\n",
    "    "
   ]
  },
  {
   "cell_type": "code",
   "execution_count": 8,
   "id": "f36d1eeb",
   "metadata": {},
   "outputs": [],
   "source": [
    "test = pd.DataFrame()\n",
    "test['text'] = test_texts \n",
    "test['label'] = test_labels"
   ]
  },
  {
   "cell_type": "code",
   "execution_count": 10,
   "id": "9fc24703",
   "metadata": {},
   "outputs": [],
   "source": [
    "my_punctuation = punctuation + '،\"؛«»)\\('"
   ]
  },
  {
   "cell_type": "code",
   "execution_count": 11,
   "id": "7f656d2c",
   "metadata": {},
   "outputs": [],
   "source": [
    "tokenizer = Tokenizer()\n",
    "normalizer = Normalizer()\n",
    "stemmer = FindStems()"
   ]
  },
  {
   "cell_type": "code",
   "execution_count": 12,
   "id": "da1c39fd",
   "metadata": {},
   "outputs": [],
   "source": [
    "def normalize_text (text) :\n",
    "    \n",
    "    tokens = tokenizer.tokenize_words(normalizer.normalize(text))\n",
    "    text = ' '.join([word for word in tokens if word not in list(my_punctuation)])\n",
    "    text = text.replace(\"nbsp\", \" \")\n",
    "    text = text.replace(\"amp\", \" \")\n",
    "    text = text.replace(\"ي\", \"ی\" )\n",
    "    text = text.replace('ك', 'ک')\n",
    "    text = text.replace('\\n', ' ')\n",
    "    text = text.replace('\\r', ' ')\n",
    "    \n",
    "#     if remove_stop_words :\n",
    "#         tokens = [stemmer.convert_to_stem(word).split('&')[0] for word in tokens if word not in stop_words]\n",
    "    return text"
   ]
  },
  {
   "cell_type": "markdown",
   "id": "df0d724d",
   "metadata": {},
   "source": [
    "# Text classification without IDF"
   ]
  },
  {
   "cell_type": "code",
   "execution_count": 44,
   "id": "0beb791f",
   "metadata": {},
   "outputs": [],
   "source": [
    "vectorizer = TfidfVectorizer(max_features=500, preprocessor=normalize_text, use_idf=False).fit(pd.concat([train,test]).text)"
   ]
  },
  {
   "cell_type": "code",
   "execution_count": 45,
   "id": "7432a6ee",
   "metadata": {},
   "outputs": [],
   "source": [
    "train_vectors = vectorizer.transform(train.text)"
   ]
  },
  {
   "cell_type": "code",
   "execution_count": 46,
   "id": "eb37be33",
   "metadata": {},
   "outputs": [],
   "source": [
    "test_vectors = vectorizer.transform(test.text)"
   ]
  },
  {
   "cell_type": "code",
   "execution_count": 47,
   "id": "85a94c0e",
   "metadata": {},
   "outputs": [],
   "source": [
    "x_train,x_test , y_train,y_test = train_test_split(train_vectors, train.label, \\\n",
    "                                                  random_state=101, stratify=train.label)"
   ]
  },
  {
   "cell_type": "code",
   "execution_count": 48,
   "id": "e2ebbb00",
   "metadata": {},
   "outputs": [
    {
     "name": "stdout",
     "output_type": "stream",
     "text": [
      "K = 1\n",
      "accuracy = 0.42857142857142855\n",
      "----------\n",
      "K = 3\n",
      "accuracy = 0.5714285714285714\n",
      "----------\n",
      "K = 5\n",
      "accuracy = 0.5714285714285714\n",
      "----------\n",
      "K = 15\n",
      "accuracy = 0.5714285714285714\n",
      "----------\n"
     ]
    }
   ],
   "source": [
    "ks = [1,3,5,15]\n",
    "for k in ks:\n",
    "    knn_model = KNeighborsClassifier(n_neighbors=k ,weights='distance',)\n",
    "    knn_model.fit(x_train,y_train)\n",
    "    y_pred = knn_model.predict(x_test)\n",
    "    print(f'K = {k}')\n",
    "    print(f'accuracy = {accuracy_score(y_test,y_pred)}')\n",
    "    \n",
    "    print('----------')"
   ]
  },
  {
   "cell_type": "markdown",
   "id": "3ca0d286",
   "metadata": {},
   "source": [
    "### Apply KNN with n_neighbors = 5 to test dataset "
   ]
  },
  {
   "cell_type": "code",
   "execution_count": 49,
   "id": "08cd6af1",
   "metadata": {},
   "outputs": [
    {
     "name": "stdout",
     "output_type": "stream",
     "text": [
      "K = 5\n",
      "accuracy = 0.8571428571428571\n"
     ]
    },
    {
     "data": {
      "text/plain": [
       "<AxesSubplot:>"
      ]
     },
     "execution_count": 49,
     "metadata": {},
     "output_type": "execute_result"
    },
    {
     "data": {
      "image/png": "[encoded data removed]",
      "text/plain": [
       "<Figure size 432x288 with 2 Axes>"
      ]
     },
     "metadata": {
      "needs_background": "light"
     },
     "output_type": "display_data"
    }
   ],
   "source": [
    "knn_model = KNeighborsClassifier(n_neighbors=5 ,weights='distance',)\n",
    "knn_model.fit(train_vectors,train.label)\n",
    "y_pred = knn_model.predict(test_vectors)\n",
    "print('K = 5')\n",
    "print(f'accuracy = {accuracy_score(test.label,y_pred)}')\n",
    "sns.heatmap(confusion_matrix(test.label,y_pred), annot=True)\n"
   ]
  },
  {
   "cell_type": "markdown",
   "id": "80b1b440",
   "metadata": {},
   "source": [
    "# Text classfication with IDF"
   ]
  },
  {
   "cell_type": "code",
   "execution_count": 50,
   "id": "4584214f",
   "metadata": {},
   "outputs": [],
   "source": [
    "vectorizer = TfidfVectorizer(max_features=500, preprocessor=normalize_text).fit(pd.concat([train,test]).text)"
   ]
  },
  {
   "cell_type": "code",
   "execution_count": 51,
   "id": "78738c30",
   "metadata": {},
   "outputs": [],
   "source": [
    "train_vectors = vectorizer.transform(train.text)"
   ]
  },
  {
   "cell_type": "code",
   "execution_count": 52,
   "id": "40cd1126",
   "metadata": {},
   "outputs": [],
   "source": [
    "test_vectors = vectorizer.transform(test.text)"
   ]
  },
  {
   "cell_type": "code",
   "execution_count": 53,
   "id": "8560fcd5",
   "metadata": {},
   "outputs": [],
   "source": [
    "x_train,x_test , y_train,y_test = train_test_split(train_vectors, train.label, \\\n",
    "                                                  random_state=101, stratify=train.label)"
   ]
  },
  {
   "cell_type": "code",
   "execution_count": 54,
   "id": "f7229890",
   "metadata": {},
   "outputs": [
    {
     "name": "stdout",
     "output_type": "stream",
     "text": [
      "K = 1\n",
      "accuracy = 0.6428571428571429\n",
      "----------\n",
      "K = 3\n",
      "accuracy = 0.6428571428571429\n",
      "----------\n",
      "K = 5\n",
      "accuracy = 0.6428571428571429\n",
      "----------\n",
      "K = 15\n",
      "accuracy = 0.6428571428571429\n",
      "----------\n"
     ]
    }
   ],
   "source": [
    "ks = [1,3,5,15]\n",
    "for k in ks:\n",
    "    knn_model = KNeighborsClassifier(n_neighbors=k ,weights='distance',)\n",
    "    knn_model.fit(x_train,y_train)\n",
    "    y_pred = knn_model.predict(x_test)\n",
    "    print(f'K = {k}')\n",
    "    print(f'accuracy = {accuracy_score(y_test,y_pred)}')\n",
    "    \n",
    "    print('----------')"
   ]
  },
  {
   "cell_type": "markdown",
   "id": "a4f51ec3",
   "metadata": {},
   "source": [
    "### Apply KNN with n_neighbors = 5 to test dataset "
   ]
  },
  {
   "cell_type": "code",
   "execution_count": 55,
   "id": "dac00385",
   "metadata": {},
   "outputs": [
    {
     "name": "stdout",
     "output_type": "stream",
     "text": [
      "K = 5\n",
      "accuracy = 0.7857142857142857\n"
     ]
    },
    {
     "data": {
      "text/plain": [
       "<AxesSubplot:>"
      ]
     },
     "execution_count": 55,
     "metadata": {},
     "output_type": "execute_result"
    },
    {
     "data": {
      "image/png": "[encoded data removed]",
      "text/plain": [
       "<Figure size 432x288 with 2 Axes>"
      ]
     },
     "metadata": {
      "needs_background": "light"
     },
     "output_type": "display_data"
    }
   ],
   "source": [
    "knn_model = KNeighborsClassifier(n_neighbors=5 ,weights='distance',)\n",
    "knn_model.fit(train_vectors,train.label)\n",
    "y_pred = knn_model.predict(test_vectors)\n",
    "print('K = 5')\n",
    "print(f'accuracy = {accuracy_score(test.label,y_pred)}')\n",
    "sns.heatmap(confusion_matrix(test.label,y_pred), annot=True)\n"
   ]
  },
  {
   "cell_type": "markdown",
   "id": "b55d9512",
   "metadata": {},
   "source": [
    "# Text classificatin with removing stop words and using IDF"
   ]
  },
  {
   "cell_type": "code",
   "execution_count": 58,
   "id": "94b5e0fa",
   "metadata": {},
   "outputs": [],
   "source": [
    "def normalize_text (text) :\n",
    "    \n",
    "    tokens = tokenizer.tokenize_words(normalizer.normalize(text))\n",
    "    tokens = [stemmer.convert_to_stem(word).split('&')[0] for word in tokens if word not in stop_words]\n",
    "    text = ' '.join([word for word in tokens if word not in list(my_punctuation)])\n",
    "    text = text.replace(\"nbsp\", \" \")\n",
    "    text = text.replace(\"amp\", \" \")\n",
    "    text = text.replace(\"ي\", \"ی\" )\n",
    "    text = text.replace('ك', 'ک')\n",
    "    text = text.replace('\\n', ' ')\n",
    "    text = text.replace('\\r', ' ')\n",
    "    \n",
    "    return text"
   ]
  },
  {
   "cell_type": "code",
   "execution_count": 59,
   "id": "d801281b",
   "metadata": {},
   "outputs": [],
   "source": [
    "vectorizer = TfidfVectorizer(max_features=500, preprocessor=normalize_text).fit(pd.concat([train,test]).text)"
   ]
  },
  {
   "cell_type": "code",
   "execution_count": 60,
   "id": "70188203",
   "metadata": {},
   "outputs": [],
   "source": [
    "train_vectors = vectorizer.transform(train.text)"
   ]
  },
  {
   "cell_type": "code",
   "execution_count": 61,
   "id": "93852595",
   "metadata": {},
   "outputs": [],
   "source": [
    "test_vectors = vectorizer.transform(test.text)"
   ]
  },
  {
   "cell_type": "code",
   "execution_count": 62,
   "id": "9d8fff0b",
   "metadata": {},
   "outputs": [],
   "source": [
    "x_train,x_test , y_train,y_test = train_test_split(train_vectors, train.label, \\\n",
    "                                                  random_state=101, stratify=train.label)"
   ]
  },
  {
   "cell_type": "code",
   "execution_count": 63,
   "id": "eabd4488",
   "metadata": {},
   "outputs": [
    {
     "name": "stdout",
     "output_type": "stream",
     "text": [
      "K = 1\n",
      "accuracy = 0.7857142857142857\n",
      "----------\n",
      "K = 3\n",
      "accuracy = 0.8571428571428571\n",
      "----------\n",
      "K = 5\n",
      "accuracy = 0.7857142857142857\n",
      "----------\n",
      "K = 15\n",
      "accuracy = 0.6428571428571429\n",
      "----------\n"
     ]
    }
   ],
   "source": [
    "ks = [1,3,5,15]\n",
    "for k in ks:\n",
    "    knn_model = KNeighborsClassifier(n_neighbors=k ,weights='distance',)\n",
    "    knn_model.fit(x_train,y_train)\n",
    "    y_pred = knn_model.predict(x_test)\n",
    "    print(f'K = {k}')\n",
    "    print(f'accuracy = {accuracy_score(y_test,y_pred)}')\n",
    "    \n",
    "    print('----------')"
   ]
  },
  {
   "cell_type": "markdown",
   "id": "2135694b",
   "metadata": {},
   "source": [
    "### Apply KNN with n_neighbors = 3 to test dataset "
   ]
  },
  {
   "cell_type": "code",
   "execution_count": 65,
   "id": "ca5f00fc",
   "metadata": {},
   "outputs": [
    {
     "name": "stdout",
     "output_type": "stream",
     "text": [
      "K = 3\n",
      "accuracy = 0.8571428571428571\n"
     ]
    },
    {
     "data": {
      "text/plain": [
       "<AxesSubplot:>"
      ]
     },
     "execution_count": 65,
     "metadata": {},
     "output_type": "execute_result"
    },
    {
     "data": {
      "image/png": "[encoded data removed]",
      "text/plain": [
       "<Figure size 432x288 with 2 Axes>"
      ]
     },
     "metadata": {
      "needs_background": "light"
     },
     "output_type": "display_data"
    }
   ],
   "source": [
    "knn_model = KNeighborsClassifier(n_neighbors=3 ,weights='distance',)\n",
    "knn_model.fit(train_vectors,train.label)\n",
    "y_pred = knn_model.predict(test_vectors)\n",
    "print('K = 3')\n",
    "print(f'accuracy = {accuracy_score(test.label,y_pred)}')\n",
    "sns.heatmap(confusion_matrix(test.label,y_pred), annot=True)\n"
   ]
  }
 ],
 "metadata": {
  "kernelspec": {
   "display_name": "Python 3",
   "language": "python",
   "name": "python3"
  },
  "language_info": {
   "codemirror_mode": {
    "name": "ipython",
    "version": 3
   },
   "file_extension": ".py",
   "mimetype": "text/x-python",
   "name": "python",
   "nbconvert_exporter": "python",
   "pygments_lexer": "ipython3",
   "version": "3.8.6"
  }
 },
 "nbformat": 4,
 "nbformat_minor": 5
}
