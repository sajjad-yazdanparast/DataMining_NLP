{
 "cells": [
  {
   "cell_type": "code",
   "execution_count": 48,
   "id": "07e53caa",
   "metadata": {},
   "outputs": [],
   "source": [
    "import os \n",
    "import math\n",
    "import requests\n",
    "\n",
    "import pandas as pd \n",
    "import numpy as np \n",
    "import seaborn as sns\n",
    "from collections import defaultdict\n",
    "from string import punctuation\n",
    "from parsivar import Tokenizer, Normalizer, FindStems\n",
    "\n",
    "\n",
    "from sklearn.preprocessing import StandardScaler\n",
    "from sklearn.naive_bayes import MultinomialNB\n",
    "from sklearn.neighbors import KNeighborsClassifier\n",
    "from sklearn.feature_extraction.text import TfidfVectorizer\n",
    "from sklearn.model_selection import train_test_split\n",
    "from sklearn.metrics import confusion_matrix, accuracy_score, f1_score, classification_report, recall_score"
   ]
  },
  {
   "cell_type": "code",
   "execution_count": 2,
   "id": "b6ab1c03",
   "metadata": {},
   "outputs": [],
   "source": [
    "LABELS = {\n",
    "    \"اجتماعی\" : \"social\",\n",
    "    \"اديان\" : \"religion\",\n",
    "    \"اقتصادی\" : \"economics\",\n",
    "    \"سیاسی\" : \"politics\",\n",
    "    \"فناوري\" : \"technology\" ,\n",
    "    \"مسائل راهبردي ايران\" : \"strategic\" ,\n",
    "    \"ورزشی\" : \"sport\",\n",
    "}"
   ]
  },
  {
   "cell_type": "code",
   "execution_count": 3,
   "id": "b5e2481c",
   "metadata": {},
   "outputs": [],
   "source": [
    "persian = requests.get('https://raw.githubusercontent.com/kharazi/persian-stopwords/master/persian').text.split('\\n')\n",
    "verbal = requests.get('https://raw.githubusercontent.com/kharazi/persian-stopwords/master/verbal').text.split('\\n')\n",
    "nonverbal = requests.get('https://raw.githubusercontent.com/kharazi/persian-stopwords/master/nonverbal').text.split('\\n')\n",
    "\n",
    "stop_words = persian + verbal + nonverbal"
   ]
  },
  {
   "cell_type": "code",
   "execution_count": 4,
   "id": "6fde6812",
   "metadata": {},
   "outputs": [],
   "source": [
    "train_texts = []\n",
    "train_labels = []\n",
    "\n",
    "test_texts = []\n",
    "test_labels = []\n",
    "\n",
    "def extract_texts (root, label , file, is_train) :\n",
    "    path = root + '/' + file \n",
    "    with open(path,'r',encoding=\"utf-8\") as f : \n",
    "        text = f.read()\n",
    "        \n",
    "        if is_train :\n",
    "            train_texts.append(text)\n",
    "            train_labels.append(LABELS[label])\n",
    "        else :\n",
    "            test_texts.append(text)\n",
    "            test_labels.append(LABELS[label])"
   ]
  },
  {
   "cell_type": "code",
   "execution_count": 5,
   "id": "33613f11",
   "metadata": {},
   "outputs": [],
   "source": [
    "for (root,dirs,files) in os.walk('./Final_Dataset/Train') :\n",
    "    \n",
    "    if len(files) == 0 :\n",
    "        continue\n",
    "    for f in files :\n",
    "        label = root.split('\\\\')[1]\n",
    "        extract_texts(root,label,f, True)\n",
    "    "
   ]
  },
  {
   "cell_type": "code",
   "execution_count": 6,
   "id": "9964fa04",
   "metadata": {},
   "outputs": [],
   "source": [
    "train = pd.DataFrame()\n",
    "train['text'] = train_texts \n",
    "train['label'] = train_labels"
   ]
  },
  {
   "cell_type": "code",
   "execution_count": 7,
   "id": "c74dd55c",
   "metadata": {},
   "outputs": [
    {
     "data": {
      "text/html": [
       "<div>\n",
       "<style scoped>\n",
       "    .dataframe tbody tr th:only-of-type {\n",
       "        vertical-align: middle;\n",
       "    }\n",
       "\n",
       "    .dataframe tbody tr th {\n",
       "        vertical-align: top;\n",
       "    }\n",
       "\n",
       "    .dataframe thead th {\n",
       "        text-align: right;\n",
       "    }\n",
       "</style>\n",
       "<table border=\"1\" class=\"dataframe\">\n",
       "  <thead>\n",
       "    <tr style=\"text-align: right;\">\n",
       "      <th></th>\n",
       "      <th>text</th>\n",
       "      <th>label</th>\n",
       "    </tr>\n",
       "  </thead>\n",
       "  <tbody>\n",
       "    <tr>\n",
       "      <th>0</th>\n",
       "      <td>﻿  به گزارش ايسنا، مهندس خرم، وزير راه و ترابر...</td>\n",
       "      <td>social</td>\n",
       "    </tr>\n",
       "    <tr>\n",
       "      <th>1</th>\n",
       "      <td>به گزارش خبرنگار اجتماعي خبرگزاري دانشجويان ...</td>\n",
       "      <td>social</td>\n",
       "    </tr>\n",
       "    <tr>\n",
       "      <th>2</th>\n",
       "      <td>دكتر امان‌الله قرايي‌مقدم، عضو هيات علمي دان...</td>\n",
       "      <td>social</td>\n",
       "    </tr>\n",
       "    <tr>\n",
       "      <th>3</th>\n",
       "      <td>به گزارش خبرنگار پارلماني ايسنا، در اين گزار...</td>\n",
       "      <td>social</td>\n",
       "    </tr>\n",
       "    <tr>\n",
       "      <th>4</th>\n",
       "      <td>به گزارش ايسنا، معاون اجتماعي وزير كشور معتق...</td>\n",
       "      <td>social</td>\n",
       "    </tr>\n",
       "  </tbody>\n",
       "</table>\n",
       "</div>"
      ],
      "text/plain": [
       "                                                text   label\n",
       "0  ﻿  به گزارش ايسنا، مهندس خرم، وزير راه و ترابر...  social\n",
       "1    به گزارش خبرنگار اجتماعي خبرگزاري دانشجويان ...  social\n",
       "2    دكتر امان‌الله قرايي‌مقدم، عضو هيات علمي دان...  social\n",
       "3    به گزارش خبرنگار پارلماني ايسنا، در اين گزار...  social\n",
       "4    به گزارش ايسنا، معاون اجتماعي وزير كشور معتق...  social"
      ]
     },
     "execution_count": 7,
     "metadata": {},
     "output_type": "execute_result"
    }
   ],
   "source": [
    "train.head()"
   ]
  },
  {
   "cell_type": "code",
   "execution_count": 8,
   "id": "12bfe715",
   "metadata": {},
   "outputs": [],
   "source": [
    "for (root,dirs,files) in os.walk('./Final_Dataset/Test') :\n",
    "    \n",
    "    if len(files) == 0 :\n",
    "        continue\n",
    "    for f in files :\n",
    "        label = root.split('\\\\')[1]\n",
    "        \n",
    "        extract_texts(root,label,f, False)\n",
    "    "
   ]
  },
  {
   "cell_type": "code",
   "execution_count": 9,
   "id": "0785ce51",
   "metadata": {},
   "outputs": [],
   "source": [
    "test = pd.DataFrame()\n",
    "test['text'] = test_texts \n",
    "test['label'] = test_labels"
   ]
  },
  {
   "cell_type": "code",
   "execution_count": 10,
   "id": "4e46634e",
   "metadata": {},
   "outputs": [
    {
     "data": {
      "text/html": [
       "<div>\n",
       "<style scoped>\n",
       "    .dataframe tbody tr th:only-of-type {\n",
       "        vertical-align: middle;\n",
       "    }\n",
       "\n",
       "    .dataframe tbody tr th {\n",
       "        vertical-align: top;\n",
       "    }\n",
       "\n",
       "    .dataframe thead th {\n",
       "        text-align: right;\n",
       "    }\n",
       "</style>\n",
       "<table border=\"1\" class=\"dataframe\">\n",
       "  <thead>\n",
       "    <tr style=\"text-align: right;\">\n",
       "      <th></th>\n",
       "      <th>text</th>\n",
       "      <th>label</th>\n",
       "    </tr>\n",
       "  </thead>\n",
       "  <tbody>\n",
       "    <tr>\n",
       "      <th>0</th>\n",
       "      <td>﻿  شهردار تهران شب گذشته در برنامه زنده تلويزي...</td>\n",
       "      <td>social</td>\n",
       "    </tr>\n",
       "    <tr>\n",
       "      <th>1</th>\n",
       "      <td>﻿  معاون پرورشي و تربيت بدني وزارت آموزش و پرو...</td>\n",
       "      <td>social</td>\n",
       "    </tr>\n",
       "    <tr>\n",
       "      <th>2</th>\n",
       "      <td>حجت الاسلام والمسلمين سيد محمد رضا غياثي کرم...</td>\n",
       "      <td>religion</td>\n",
       "    </tr>\n",
       "    <tr>\n",
       "      <th>3</th>\n",
       "      <td>سمينار \"اسلام و آينده و نسل جديد\" 24 آذرماه ...</td>\n",
       "      <td>religion</td>\n",
       "    </tr>\n",
       "    <tr>\n",
       "      <th>4</th>\n",
       "      <td>ماده 69 قانون برنامه پنجم به موضوع بهره‌وري ...</td>\n",
       "      <td>economics</td>\n",
       "    </tr>\n",
       "    <tr>\n",
       "      <th>5</th>\n",
       "      <td>﻿  به گزارش خبرگزاري دانشجويان ايران (ايسنا) ا...</td>\n",
       "      <td>economics</td>\n",
       "    </tr>\n",
       "    <tr>\n",
       "      <th>6</th>\n",
       "      <td>به گزارش خبرنگار سياسي ايسنا،‌ محمدي در ابتد...</td>\n",
       "      <td>politics</td>\n",
       "    </tr>\n",
       "    <tr>\n",
       "      <th>7</th>\n",
       "      <td>﻿  خبرگزاري دانشجويان ايران نيز در راستاي منوي...</td>\n",
       "      <td>politics</td>\n",
       "    </tr>\n",
       "    <tr>\n",
       "      <th>8</th>\n",
       "      <td>مجري پروژ‌ه‌هاي ملي و طرح ucf اصفهان معتقد ا...</td>\n",
       "      <td>technology</td>\n",
       "    </tr>\n",
       "    <tr>\n",
       "      <th>9</th>\n",
       "      <td>﻿  بر اساس برنامه اعلام شده توسط سازمان فضايي ...</td>\n",
       "      <td>technology</td>\n",
       "    </tr>\n",
       "    <tr>\n",
       "      <th>10</th>\n",
       "      <td>﻿  اشاره: در ويرايش نخست &amp;amp;nbsp;اولين بخش &amp;...</td>\n",
       "      <td>strategic</td>\n",
       "    </tr>\n",
       "    <tr>\n",
       "      <th>11</th>\n",
       "      <td>اشاره: آن‌چه &amp;amp;nbsp; در پي مي‌آيد، لينك &amp;...</td>\n",
       "      <td>strategic</td>\n",
       "    </tr>\n",
       "    <tr>\n",
       "      <th>12</th>\n",
       "      <td>سرپرست باشگاه پرسپوليس دوشنبه ميهمان خبرگزار...</td>\n",
       "      <td>sport</td>\n",
       "    </tr>\n",
       "    <tr>\n",
       "      <th>13</th>\n",
       "      <td>به گزارش خبرگزاري دانشجويان ايران (ايسنا)، ع...</td>\n",
       "      <td>sport</td>\n",
       "    </tr>\n",
       "  </tbody>\n",
       "</table>\n",
       "</div>"
      ],
      "text/plain": [
       "                                                 text       label\n",
       "0   ﻿  شهردار تهران شب گذشته در برنامه زنده تلويزي...      social\n",
       "1   ﻿  معاون پرورشي و تربيت بدني وزارت آموزش و پرو...      social\n",
       "2     حجت الاسلام والمسلمين سيد محمد رضا غياثي کرم...    religion\n",
       "3     سمينار \"اسلام و آينده و نسل جديد\" 24 آذرماه ...    religion\n",
       "4     ماده 69 قانون برنامه پنجم به موضوع بهره‌وري ...   economics\n",
       "5   ﻿  به گزارش خبرگزاري دانشجويان ايران (ايسنا) ا...   economics\n",
       "6     به گزارش خبرنگار سياسي ايسنا،‌ محمدي در ابتد...    politics\n",
       "7   ﻿  خبرگزاري دانشجويان ايران نيز در راستاي منوي...    politics\n",
       "8     مجري پروژ‌ه‌هاي ملي و طرح ucf اصفهان معتقد ا...  technology\n",
       "9   ﻿  بر اساس برنامه اعلام شده توسط سازمان فضايي ...  technology\n",
       "10  ﻿  اشاره: در ويرايش نخست &amp;nbsp;اولين بخش &...   strategic\n",
       "11    اشاره: آن‌چه &amp;nbsp; در پي مي‌آيد، لينك &...   strategic\n",
       "12    سرپرست باشگاه پرسپوليس دوشنبه ميهمان خبرگزار...       sport\n",
       "13    به گزارش خبرگزاري دانشجويان ايران (ايسنا)، ع...       sport"
      ]
     },
     "execution_count": 10,
     "metadata": {},
     "output_type": "execute_result"
    }
   ],
   "source": [
    "test"
   ]
  },
  {
   "cell_type": "code",
   "execution_count": 11,
   "id": "ed4b6477",
   "metadata": {},
   "outputs": [],
   "source": [
    "my_punctuation = punctuation + '،\"؛«»)\\('"
   ]
  },
  {
   "cell_type": "code",
   "execution_count": 12,
   "id": "b331946a",
   "metadata": {},
   "outputs": [],
   "source": [
    "tokenizer = Tokenizer()\n",
    "normalizer = Normalizer()\n",
    "stemmer = FindStems()"
   ]
  },
  {
   "cell_type": "code",
   "execution_count": 103,
   "id": "58d99e52",
   "metadata": {},
   "outputs": [],
   "source": [
    "def normalize_text (text) :\n",
    "    \n",
    "    tokens = tokenizer.tokenize_words(normalizer.normalize(text))\n",
    "    text = ' '.join([word for word in tokens if word not in list(my_punctuation)])\n",
    "    text = text.replace(\"nbsp\", \" \")\n",
    "    text = text.replace(\"amp\", \" \")\n",
    "    text = text.replace(\"ي\", \"ی\" )\n",
    "    text = text.replace('ك', 'ک')\n",
    "    text = text.replace('\\n', ' ')\n",
    "    text = text.replace('\\r', ' ')\n",
    "    \n",
    "#     if remove_stop_words :\n",
    "#         tokens = [stemmer.convert_to_stem(word).split('&')[0] for word in tokens if word not in stop_words]\n",
    "    return text"
   ]
  },
  {
   "cell_type": "code",
   "execution_count": 104,
   "id": "9eab4132",
   "metadata": {},
   "outputs": [],
   "source": [
    "vectorizer = TfidfVectorizer(max_features=500, preprocessor=normalize_text, use_idf=False).fit(pd.concat([train,test]).text)"
   ]
  },
  {
   "cell_type": "code",
   "execution_count": 105,
   "id": "d5c3fa38",
   "metadata": {},
   "outputs": [],
   "source": [
    "train_vectors = vectorizer.transform(train.text)"
   ]
  },
  {
   "cell_type": "code",
   "execution_count": 106,
   "id": "2d23113a",
   "metadata": {},
   "outputs": [],
   "source": [
    "test_vectors = vectorizer.transform(test.text)"
   ]
  },
  {
   "cell_type": "code",
   "execution_count": 107,
   "id": "9b30c730",
   "metadata": {},
   "outputs": [],
   "source": [
    "x_train,x_test , y_train,y_test = train_test_split(train_vectors, train.label, \\\n",
    "                                                  random_state=101, stratify=train.label)"
   ]
  },
  {
   "cell_type": "markdown",
   "id": "0f7e9da9",
   "metadata": {},
   "source": [
    "# Using Multinomial Naive Bayes for classification"
   ]
  },
  {
   "cell_type": "code",
   "execution_count": 117,
   "id": "0bdf44b1",
   "metadata": {},
   "outputs": [
    {
     "data": {
      "text/plain": [
       "MultinomialNB()"
      ]
     },
     "execution_count": 117,
     "metadata": {},
     "output_type": "execute_result"
    }
   ],
   "source": [
    "model = MultinomialNB()\n",
    "model.fit(x_train, y_train)"
   ]
  },
  {
   "cell_type": "code",
   "execution_count": 118,
   "id": "48339260",
   "metadata": {},
   "outputs": [],
   "source": [
    "y_pred = model.predict(x_test.toarray())"
   ]
  },
  {
   "cell_type": "code",
   "execution_count": 119,
   "id": "1c43b24c",
   "metadata": {},
   "outputs": [
    {
     "name": "stdout",
     "output_type": "stream",
     "text": [
      "              precision    recall  f1-score   support\n",
      "\n",
      "   economics       0.67      1.00      0.80         2\n",
      "    politics       1.00      1.00      1.00         2\n",
      "    religion       1.00      1.00      1.00         2\n",
      "      social       0.67      1.00      0.80         2\n",
      "       sport       1.00      1.00      1.00         2\n",
      "   strategic       1.00      0.50      0.67         2\n",
      "  technology       1.00      0.50      0.67         2\n",
      "\n",
      "    accuracy                           0.86        14\n",
      "   macro avg       0.90      0.86      0.85        14\n",
      "weighted avg       0.90      0.86      0.85        14\n",
      "\n"
     ]
    }
   ],
   "source": [
    "print(classification_report(y_test,y_pred))"
   ]
  },
  {
   "cell_type": "code",
   "execution_count": 120,
   "id": "c50c1deb",
   "metadata": {},
   "outputs": [
    {
     "data": {
      "text/plain": [
       "<AxesSubplot:>"
      ]
     },
     "execution_count": 120,
     "metadata": {},
     "output_type": "execute_result"
    },
    {
     "data": {
      "image/png": "[encoded data removed]",
      "text/plain": [
       "<Figure size 432x288 with 2 Axes>"
      ]
     },
     "metadata": {
      "needs_background": "light"
     },
     "output_type": "display_data"
    }
   ],
   "source": [
    "sns.heatmap(confusion_matrix(y_test, y_pred), annot=True, cmap='plasma')"
   ]
  },
  {
   "cell_type": "code",
   "execution_count": 121,
   "id": "3c25a683",
   "metadata": {},
   "outputs": [
    {
     "data": {
      "text/plain": [
       "0.8571428571428571"
      ]
     },
     "execution_count": 121,
     "metadata": {},
     "output_type": "execute_result"
    }
   ],
   "source": [
    "accuracy_score(y_test, y_pred)"
   ]
  },
  {
   "cell_type": "code",
   "execution_count": 122,
   "id": "e046ec7f",
   "metadata": {},
   "outputs": [
    {
     "data": {
      "text/plain": [
       "0.8571428571428571"
      ]
     },
     "execution_count": 122,
     "metadata": {},
     "output_type": "execute_result"
    }
   ],
   "source": [
    "recall_score(y_test, y_pred, average='macro')"
   ]
  },
  {
   "cell_type": "code",
   "execution_count": 123,
   "id": "04b67b91",
   "metadata": {},
   "outputs": [
    {
     "data": {
      "text/plain": [
       "0.8476190476190476"
      ]
     },
     "execution_count": 123,
     "metadata": {},
     "output_type": "execute_result"
    }
   ],
   "source": [
    "f1_score(y_test, y_pred, average='macro')"
   ]
  },
  {
   "cell_type": "markdown",
   "id": "83d375ca",
   "metadata": {},
   "source": [
    "## Apply Naive bayes to test dataset"
   ]
  },
  {
   "cell_type": "code",
   "execution_count": 125,
   "id": "450c86ed",
   "metadata": {},
   "outputs": [],
   "source": [
    "y_pred = model.predict(test_vectors)"
   ]
  },
  {
   "cell_type": "code",
   "execution_count": 126,
   "id": "f3aa2a13",
   "metadata": {},
   "outputs": [
    {
     "name": "stdout",
     "output_type": "stream",
     "text": [
      "Accuracy = 0.9285714285714286\n",
      "recall = 0.9285714285714286\n",
      "f1_score = 0.9238095238095239\n"
     ]
    }
   ],
   "source": [
    "print(f'Accuracy = {accuracy_score(test.label, y_pred)}')\n",
    "print(f\"recall = {recall_score(test.label, y_pred, average='macro')}\")\n",
    "print(f\"f1_score = {f1_score(test.label, y_pred, average='macro')}\")\n"
   ]
  },
  {
   "cell_type": "markdown",
   "id": "0078b891",
   "metadata": {},
   "source": [
    "# Using KNN algorithm for classification"
   ]
  },
  {
   "cell_type": "code",
   "execution_count": 127,
   "id": "dd23179e",
   "metadata": {},
   "outputs": [
    {
     "name": "stdout",
     "output_type": "stream",
     "text": [
      "K = 1\n",
      "accuracy = 0.7857142857142857\n",
      "recall = 0.7857142857142857\n",
      "f1_score = 0.7333333333333334\n",
      "[[2 0 0 0 0 0 0]\n",
      " [0 2 0 0 0 0 0]\n",
      " [0 0 2 0 0 0 0]\n",
      " [0 0 0 2 0 0 0]\n",
      " [0 0 0 0 2 0 0]\n",
      " [0 0 0 1 0 1 0]\n",
      " [1 0 0 1 0 0 0]]\n",
      "----------\n",
      "K = 3\n",
      "accuracy = 0.8571428571428571\n",
      "recall = 0.8571428571428571\n",
      "f1_score = 0.8571428571428571\n",
      "[[2 0 0 0 0 0 0]\n",
      " [0 2 0 0 0 0 0]\n",
      " [0 0 2 0 0 0 0]\n",
      " [0 0 0 2 0 0 0]\n",
      " [0 0 0 0 2 0 0]\n",
      " [0 0 0 1 0 1 0]\n",
      " [0 0 0 1 0 0 1]]\n",
      "----------\n",
      "K = 5\n",
      "accuracy = 0.7857142857142857\n",
      "recall = 0.7857142857142857\n",
      "f1_score = 0.7238095238095238\n",
      "[[2 0 0 0 0 0 0]\n",
      " [1 1 0 0 0 0 0]\n",
      " [0 0 2 0 0 0 0]\n",
      " [0 0 0 2 0 0 0]\n",
      " [0 0 0 0 2 0 0]\n",
      " [0 0 0 1 0 0 1]\n",
      " [0 0 0 0 0 0 2]]\n",
      "----------\n",
      "K = 15\n",
      "accuracy = 0.6428571428571429\n",
      "recall = 0.6428571428571429\n",
      "f1_score = 0.5673469387755102\n",
      "[[2 0 0 0 0 0 0]\n",
      " [0 2 0 0 0 0 0]\n",
      " [0 0 2 0 0 0 0]\n",
      " [1 0 0 1 0 0 0]\n",
      " [0 0 0 0 2 0 0]\n",
      " [1 0 0 1 0 0 0]\n",
      " [1 0 0 1 0 0 0]]\n",
      "----------\n"
     ]
    }
   ],
   "source": [
    "ks = [1,3,5,15]\n",
    "for k in ks:\n",
    "    knn_model = KNeighborsClassifier(n_neighbors=k ,weights='distance',)\n",
    "    knn_model.fit(x_train,y_train)\n",
    "    y_pred = knn_model.predict(x_test)\n",
    "    print(f'K = {k}')\n",
    "    print(f'accuracy = {accuracy_score(y_test,y_pred)}')\n",
    "    print(f\"recall = {recall_score(y_test, y_pred, average='macro')}\")\n",
    "    print(f\"f1_score = {f1_score(y_test, y_pred, average='macro')}\")\n",
    "    print(confusion_matrix(y_test,y_pred))\n",
    "    \n",
    "    print('----------')"
   ]
  },
  {
   "cell_type": "markdown",
   "id": "46e6fe3c",
   "metadata": {},
   "source": [
    "### Apply KNN with n_neighbors = 5 to test dataset"
   ]
  },
  {
   "cell_type": "code",
   "execution_count": 128,
   "id": "a2b22701",
   "metadata": {},
   "outputs": [
    {
     "name": "stdout",
     "output_type": "stream",
     "text": [
      "Accuracy = 0.9285714285714286\n",
      "recall = 0.9285714285714286\n",
      "f1_score = 0.9285714285714286\n"
     ]
    }
   ],
   "source": [
    "knn_model = KNeighborsClassifier(n_neighbors=5 ,weights='distance',)\n",
    "knn_model.fit(train_vectors, train.label)\n",
    "\n",
    "y_pred = knn_model.predict(test_vectors)\n",
    "\n",
    "print(f'Accuracy = {accuracy_score(test.label, y_pred)}')\n",
    "print(f\"recall = {recall_score(test.label, y_pred, average='micro')}\")\n",
    "print(f\"f1_score = {f1_score(test.label, y_pred, average='micro')}\")\n"
   ]
  },
  {
   "cell_type": "markdown",
   "id": "50929591",
   "metadata": {},
   "source": [
    "# Calculating TF-IDF for tokens"
   ]
  },
  {
   "cell_type": "code",
   "execution_count": 40,
   "id": "069b273b",
   "metadata": {},
   "outputs": [],
   "source": [
    "idf_tokens = defaultdict(int)\n",
    "num_of_all_texts = train.shape[0] + test.shape[0]\n",
    "for key,value in tokens.items() :\n",
    "    idf = sum(train.text.apply(lambda text : 1 if key in text else 0 ))\n",
    "    idf += sum(test.text.apply(lambda text : 1 if key in text else 0 ))\n",
    "    idf = math.log10(num_of_all_texts / idf)\n",
    "    \n",
    "    idf_tokens[key] =  idf "
   ]
  },
  {
   "cell_type": "code",
   "execution_count": 41,
   "id": "466c7f55",
   "metadata": {},
   "outputs": [],
   "source": [
    "def replace_by_tfidf (vector) :\n",
    "    l = []\n",
    "    for key, value in zip(vector.index,vector.values) :\n",
    "        l.append(value * idf_tokens[key])\n",
    "    \n",
    "    return l\n",
    "\n",
    "\n",
    "train_labels = train_vectors.label\n",
    "train_vectors = pd.DataFrame.from_records(train_vectors.drop('label',axis=1).apply(replace_by_tfidf,axis=1), columns= list(train_vectors.columns).remove('label'))\n",
    "train_vectors['label'] = train_labels\n",
    "\n",
    "test_labels = test_vectors.label\n",
    "test_vectors = pd.DataFrame.from_records(test_vectors.drop('label', axis=1).apply(replace_by_tfidf, axis=1), columns = list(test_vectors.columns).remove('label'))\n",
    "test_vectors['label'] = test_labels"
   ]
  },
  {
   "cell_type": "code",
   "execution_count": 42,
   "id": "d158376e",
   "metadata": {},
   "outputs": [],
   "source": [
    "x_train,x_test ,y_trian,y_test = train_test_split(train_vectors.drop('label', axis=1), train_vectors.label, test_size=0.3, \\\n",
    "                                                 random_state=101, stratify=train_vectors.label)"
   ]
  },
  {
   "cell_type": "code",
   "execution_count": 43,
   "id": "017895ed",
   "metadata": {},
   "outputs": [
    {
     "name": "stdout",
     "output_type": "stream",
     "text": [
      "K = 1\n",
      "accuracy = 0.47058823529411764\n",
      "recall = 0.4761904761904762\n",
      "f1_score = 0.3979591836734694\n",
      "[[0 0 0 1 0 0 1]\n",
      " [0 0 0 2 0 0 1]\n",
      " [0 0 2 0 0 0 0]\n",
      " [0 0 0 3 0 0 0]\n",
      " [0 0 0 0 2 0 0]\n",
      " [0 0 0 1 0 0 1]\n",
      " [0 0 0 2 0 0 1]]\n",
      "----------\n",
      "K = 3\n",
      "accuracy = 0.35294117647058826\n",
      "recall = 0.38095238095238093\n",
      "f1_score = 0.35986394557823126\n",
      "[[1 0 1 0 0 0 0]\n",
      " [0 0 3 0 0 0 0]\n",
      " [0 0 2 0 0 0 0]\n",
      " [0 0 2 1 0 0 0]\n",
      " [0 0 1 0 1 0 0]\n",
      " [0 0 1 0 0 0 1]\n",
      " [0 0 2 0 0 0 1]]\n",
      "----------\n",
      "K = 5\n",
      "accuracy = 0.23529411764705882\n",
      "recall = 0.2857142857142857\n",
      "f1_score = 0.2261904761904762\n",
      "[[1 0 1 0 0 0 0]\n",
      " [0 0 3 0 0 0 0]\n",
      " [0 0 2 0 0 0 0]\n",
      " [0 0 3 0 0 0 0]\n",
      " [0 0 1 0 1 0 0]\n",
      " [0 0 1 0 0 0 1]\n",
      " [0 0 3 0 0 0 0]]\n",
      "----------\n",
      "K = 15\n",
      "accuracy = 0.29411764705882354\n",
      "recall = 0.2857142857142857\n",
      "f1_score = 0.24761904761904763\n",
      "[[0 0 0 0 0 0 2]\n",
      " [2 0 0 0 0 0 1]\n",
      " [0 0 1 0 0 0 1]\n",
      " [1 0 0 0 0 0 2]\n",
      " [0 0 0 0 1 0 1]\n",
      " [0 0 0 0 0 0 2]\n",
      " [0 0 0 0 0 0 3]]\n",
      "----------\n"
     ]
    }
   ],
   "source": [
    "ks = [1,3,5,15]\n",
    "for k in ks:\n",
    "    knn_model = KNeighborsClassifier(n_neighbors=k )\n",
    "    knn_model.fit(x_train,y_train)\n",
    "    y_pred = knn_model.predict(x_test)\n",
    "    print(f'K = {k}')\n",
    "    print(f'accuracy = {accuracy_score(y_test,y_pred)}')\n",
    "    print(f\"recall = {recall_score(y_test, y_pred, average='macro')}\")\n",
    "    print(f\"f1_score = {f1_score(y_test, y_pred, average='macro')}\")\n",
    "    print(confusion_matrix(y_test,y_pred))\n",
    "    \n",
    "    print('----------')"
   ]
  },
  {
   "cell_type": "markdown",
   "id": "0b564e69",
   "metadata": {},
   "source": [
    "If set remove_stop_words parameter to **True** in *normalize_text* method we can see that performance of both KNN and naive bayes models will increase!"
   ]
  },
  {
   "cell_type": "markdown",
   "id": "7b69c83f",
   "metadata": {},
   "source": [
    "### Apply KNN with n_neighbors = 1  for test dataset"
   ]
  },
  {
   "cell_type": "code",
   "execution_count": 46,
   "id": "99cbae43",
   "metadata": {},
   "outputs": [
    {
     "name": "stdout",
     "output_type": "stream",
     "text": [
      "K = 15\n",
      "accuracy = 0.42857142857142855\n",
      "recall = 0.42857142857142855\n",
      "f1_score = 0.38095238095238093\n"
     ]
    },
    {
     "data": {
      "text/plain": [
       "<AxesSubplot:>"
      ]
     },
     "execution_count": 46,
     "metadata": {},
     "output_type": "execute_result"
    },
    {
     "data": {
      "image/png": "[encoded data removed]",
      "text/plain": [
       "<Figure size 432x288 with 2 Axes>"
      ]
     },
     "metadata": {
      "needs_background": "light"
     },
     "output_type": "display_data"
    }
   ],
   "source": [
    "knn_model = KNeighborsClassifier(n_neighbors=1 )\n",
    "knn_model.fit(x_train,y_train)\n",
    "y_pred = knn_model.predict(test_vectors.drop('label', axis=1))\n",
    "print(f'K = {k}')\n",
    "print(f'accuracy = {accuracy_score(test_vectors.label,y_pred)}')\n",
    "print(f\"recall = {recall_score(test_vectors.label, y_pred, average='macro')}\")\n",
    "print(f\"f1_score = {f1_score(test_vectors.label, y_pred, average='macro')}\")\n",
    "sns.heatmap(confusion_matrix(test_vectors.label,y_pred), annot=True)\n"
   ]
  }
 ],
 "metadata": {
  "kernelspec": {
   "display_name": "Python 3",
   "language": "python",
   "name": "python3"
  },
  "language_info": {
   "codemirror_mode": {
    "name": "ipython",
    "version": 3
   },
   "file_extension": ".py",
   "mimetype": "text/x-python",
   "name": "python",
   "nbconvert_exporter": "python",
   "pygments_lexer": "ipython3",
   "version": "3.8.6"
  }
 },
 "nbformat": 4,
 "nbformat_minor": 5
}
